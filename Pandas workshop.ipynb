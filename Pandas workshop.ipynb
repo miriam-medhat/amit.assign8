{
 "cells": [
  {
   "cell_type": "markdown",
   "metadata": {
    "id": "D7vv7luF6AI9"
   },
   "source": [
    "# Explanation of data"
   ]
  },
  {
   "cell_type": "markdown",
   "metadata": {
    "id": "KNHUt5m45s9k"
   },
   "source": [
    "## 1-total_bill:\n",
    "\n",
    "Description: The total amount of the bill (in dollars) for the meal, including the cost of food and drinks.\n",
    "Data Type: Float\n",
    "Example: 16.99\n",
    "## 2-tip:\n",
    "\n",
    "Description: The amount of the tip (in dollars) given by the customer to the server.\n",
    "Data Type: Float\n",
    "Example: 1.01\n",
    "## 3-sex:\n",
    "\n",
    "Description: The gender of the person who paid for the meal.\n",
    "Data Type: Categorical (string)\n",
    "Possible Values: 'Male', 'Female'\n",
    "Example: 'Female'\n",
    "## 4-smoker:\n",
    "\n",
    "Description: Indicates whether there were smokers in the party.\n",
    "Data Type: Categorical (string)\n",
    "Possible Values: 'Yes', 'No'\n",
    "Example: 'No'\n",
    "## 5-day:\n",
    "\n",
    "Description: The day of the week when the meal was served.\n",
    "Data Type: Categorical (string)\n",
    "Possible Values: 'Thur' (Thursday), 'Fri' (Friday), 'Sat' (Saturday), 'Sun' (Sunday)\n",
    "Example: 'Sun'\n",
    "## 6-time:\n",
    "\n",
    "Description: The time of day when the meal was served.\n",
    "Data Type: Categorical (string)\n",
    "Possible Values: 'Lunch', 'Dinner'\n",
    "Example: 'Dinner'\n",
    "## 7-size:\n",
    "\n",
    "Description: The number of people in the party.\n",
    "Data Type: Integer\n",
    "Example: 2"
   ]
  },
  {
   "cell_type": "markdown",
   "metadata": {
    "id": "X_cxp0rIzH6Y"
   },
   "source": [
    "## Load the dataset"
   ]
  },
  {
   "cell_type": "code",
   "execution_count": 1,
   "metadata": {},
   "outputs": [],
   "source": [
    "import numpy as np\n",
    "import pandas as pd\n",
    "\n",
    "df = pd.read_csv(\"tips.csv\")"
   ]
  },
  {
   "cell_type": "markdown",
   "metadata": {
    "id": "4pSqsPPKzMI-"
   },
   "source": [
    "## Display the first few rows"
   ]
  },
  {
   "cell_type": "code",
   "execution_count": 2,
   "metadata": {},
   "outputs": [
    {
     "data": {
      "text/html": [
       "<div>\n",
       "<style scoped>\n",
       "    .dataframe tbody tr th:only-of-type {\n",
       "        vertical-align: middle;\n",
       "    }\n",
       "\n",
       "    .dataframe tbody tr th {\n",
       "        vertical-align: top;\n",
       "    }\n",
       "\n",
       "    .dataframe thead th {\n",
       "        text-align: right;\n",
       "    }\n",
       "</style>\n",
       "<table border=\"1\" class=\"dataframe\">\n",
       "  <thead>\n",
       "    <tr style=\"text-align: right;\">\n",
       "      <th></th>\n",
       "      <th>total_bill</th>\n",
       "      <th>tip</th>\n",
       "      <th>sex</th>\n",
       "      <th>smoker</th>\n",
       "      <th>day</th>\n",
       "      <th>time</th>\n",
       "      <th>size</th>\n",
       "    </tr>\n",
       "  </thead>\n",
       "  <tbody>\n",
       "    <tr>\n",
       "      <th>0</th>\n",
       "      <td>16.99</td>\n",
       "      <td>1.01</td>\n",
       "      <td>Female</td>\n",
       "      <td>No</td>\n",
       "      <td>Sun</td>\n",
       "      <td>Dinner</td>\n",
       "      <td>2</td>\n",
       "    </tr>\n",
       "    <tr>\n",
       "      <th>1</th>\n",
       "      <td>10.34</td>\n",
       "      <td>1.66</td>\n",
       "      <td>Male</td>\n",
       "      <td>No</td>\n",
       "      <td>Sun</td>\n",
       "      <td>Dinner</td>\n",
       "      <td>3</td>\n",
       "    </tr>\n",
       "    <tr>\n",
       "      <th>2</th>\n",
       "      <td>21.01</td>\n",
       "      <td>3.50</td>\n",
       "      <td>Male</td>\n",
       "      <td>No</td>\n",
       "      <td>Sun</td>\n",
       "      <td>Dinner</td>\n",
       "      <td>3</td>\n",
       "    </tr>\n",
       "    <tr>\n",
       "      <th>3</th>\n",
       "      <td>23.68</td>\n",
       "      <td>3.31</td>\n",
       "      <td>Male</td>\n",
       "      <td>No</td>\n",
       "      <td>Sun</td>\n",
       "      <td>Dinner</td>\n",
       "      <td>2</td>\n",
       "    </tr>\n",
       "    <tr>\n",
       "      <th>4</th>\n",
       "      <td>24.59</td>\n",
       "      <td>3.61</td>\n",
       "      <td>Female</td>\n",
       "      <td>No</td>\n",
       "      <td>Sun</td>\n",
       "      <td>Dinner</td>\n",
       "      <td>4</td>\n",
       "    </tr>\n",
       "    <tr>\n",
       "      <th>5</th>\n",
       "      <td>25.29</td>\n",
       "      <td>4.71</td>\n",
       "      <td>Male</td>\n",
       "      <td>No</td>\n",
       "      <td>Sun</td>\n",
       "      <td>Dinner</td>\n",
       "      <td>4</td>\n",
       "    </tr>\n",
       "    <tr>\n",
       "      <th>6</th>\n",
       "      <td>8.77</td>\n",
       "      <td>2.00</td>\n",
       "      <td>Male</td>\n",
       "      <td>No</td>\n",
       "      <td>Sun</td>\n",
       "      <td>Dinner</td>\n",
       "      <td>2</td>\n",
       "    </tr>\n",
       "    <tr>\n",
       "      <th>7</th>\n",
       "      <td>26.88</td>\n",
       "      <td>3.12</td>\n",
       "      <td>Male</td>\n",
       "      <td>No</td>\n",
       "      <td>Sun</td>\n",
       "      <td>Dinner</td>\n",
       "      <td>4</td>\n",
       "    </tr>\n",
       "    <tr>\n",
       "      <th>8</th>\n",
       "      <td>15.04</td>\n",
       "      <td>1.96</td>\n",
       "      <td>Male</td>\n",
       "      <td>No</td>\n",
       "      <td>Sun</td>\n",
       "      <td>Dinner</td>\n",
       "      <td>2</td>\n",
       "    </tr>\n",
       "    <tr>\n",
       "      <th>9</th>\n",
       "      <td>14.78</td>\n",
       "      <td>3.23</td>\n",
       "      <td>Male</td>\n",
       "      <td>No</td>\n",
       "      <td>Sun</td>\n",
       "      <td>Dinner</td>\n",
       "      <td>2</td>\n",
       "    </tr>\n",
       "  </tbody>\n",
       "</table>\n",
       "</div>"
      ],
      "text/plain": [
       "   total_bill   tip     sex smoker  day    time  size\n",
       "0       16.99  1.01  Female     No  Sun  Dinner     2\n",
       "1       10.34  1.66    Male     No  Sun  Dinner     3\n",
       "2       21.01  3.50    Male     No  Sun  Dinner     3\n",
       "3       23.68  3.31    Male     No  Sun  Dinner     2\n",
       "4       24.59  3.61  Female     No  Sun  Dinner     4\n",
       "5       25.29  4.71    Male     No  Sun  Dinner     4\n",
       "6        8.77  2.00    Male     No  Sun  Dinner     2\n",
       "7       26.88  3.12    Male     No  Sun  Dinner     4\n",
       "8       15.04  1.96    Male     No  Sun  Dinner     2\n",
       "9       14.78  3.23    Male     No  Sun  Dinner     2"
      ]
     },
     "execution_count": 2,
     "metadata": {},
     "output_type": "execute_result"
    }
   ],
   "source": [
    "df.head(10)"
   ]
  },
  {
   "cell_type": "markdown",
   "metadata": {
    "id": "QnWpnuZpzWnw"
   },
   "source": [
    "## Question 1: What is the average total bill amount?"
   ]
  },
  {
   "cell_type": "code",
   "execution_count": 3,
   "metadata": {},
   "outputs": [
    {
     "data": {
      "text/plain": [
       "19.78594262295082"
      ]
     },
     "execution_count": 3,
     "metadata": {},
     "output_type": "execute_result"
    }
   ],
   "source": [
    "df[\"total_bill\"].mean()"
   ]
  },
  {
   "cell_type": "markdown",
   "metadata": {
    "id": "JHCnMe-kzk20"
   },
   "source": [
    "## Question 2: How many records are in the dataset?\n"
   ]
  },
  {
   "cell_type": "code",
   "execution_count": 4,
   "metadata": {},
   "outputs": [
    {
     "name": "stdout",
     "output_type": "stream",
     "text": [
      "<class 'pandas.core.frame.DataFrame'>\n",
      "RangeIndex: 244 entries, 0 to 243\n",
      "Data columns (total 7 columns):\n",
      " #   Column      Non-Null Count  Dtype  \n",
      "---  ------      --------------  -----  \n",
      " 0   total_bill  244 non-null    float64\n",
      " 1   tip         244 non-null    float64\n",
      " 2   sex         244 non-null    object \n",
      " 3   smoker      244 non-null    object \n",
      " 4   day         244 non-null    object \n",
      " 5   time        244 non-null    object \n",
      " 6   size        244 non-null    int64  \n",
      "dtypes: float64(2), int64(1), object(4)\n",
      "memory usage: 13.5+ KB\n"
     ]
    }
   ],
   "source": [
    "df.info()\n",
    "# 244 records"
   ]
  },
  {
   "cell_type": "markdown",
   "metadata": {
    "id": "SPo07k6SzoI2"
   },
   "source": [
    "## Question 3: What is the total amount of tips given by male customers?\n"
   ]
  },
  {
   "cell_type": "code",
   "execution_count": 6,
   "metadata": {},
   "outputs": [
    {
     "data": {
      "text/plain": [
       "485.06999999999994"
      ]
     },
     "execution_count": 6,
     "metadata": {},
     "output_type": "execute_result"
    }
   ],
   "source": [
    "filter1 = df[\"sex\"] == \"Male\"\n",
    "df[\"tip\"].where(filter1, inplace=False).sum()"
   ]
  },
  {
   "cell_type": "markdown",
   "metadata": {
    "id": "1VacIheWzxVx"
   },
   "source": [
    "## Question 4: What is the maximum tip given?\n"
   ]
  },
  {
   "cell_type": "code",
   "execution_count": 7,
   "metadata": {},
   "outputs": [
    {
     "data": {
      "text/plain": [
       "10.0"
      ]
     },
     "execution_count": 7,
     "metadata": {},
     "output_type": "execute_result"
    }
   ],
   "source": [
    "df[\"tip\"].max()"
   ]
  },
  {
   "cell_type": "markdown",
   "metadata": {
    "id": "BpjN-WYaz1Zb"
   },
   "source": [
    "## Question 5: What are the unique days on which the tips were recorded?\n"
   ]
  },
  {
   "cell_type": "code",
   "execution_count": 9,
   "metadata": {},
   "outputs": [
    {
     "data": {
      "text/plain": [
       "array(['Sun', 'Sat', 'Thur', 'Fri'], dtype=object)"
      ]
     },
     "execution_count": 9,
     "metadata": {},
     "output_type": "execute_result"
    }
   ],
   "source": [
    "filter2 = df[\"tip\"] != 0.00\n",
    "df[\"day\"].where(filter2, inplace=False).unique()"
   ]
  },
  {
   "cell_type": "markdown",
   "metadata": {
    "id": "G5o62RuK0oSi"
   },
   "source": [
    "## Question 6: What is the average tip amount given by female customers?\n"
   ]
  },
  {
   "cell_type": "code",
   "execution_count": 10,
   "metadata": {},
   "outputs": [
    {
     "data": {
      "text/plain": [
       "2.833448275862069"
      ]
     },
     "execution_count": 10,
     "metadata": {},
     "output_type": "execute_result"
    }
   ],
   "source": [
    "filter3 = df[\"sex\"] == \"Female\"\n",
    "df[\"tip\"].where(filter3, inplace=False).mean()"
   ]
  },
  {
   "cell_type": "markdown",
   "metadata": {
    "id": "rcr7bhgL0tEf"
   },
   "source": [
    "## Question 7: How many customers are non-smokers?\n"
   ]
  },
  {
   "cell_type": "code",
   "execution_count": 11,
   "metadata": {},
   "outputs": [
    {
     "data": {
      "text/plain": [
       "smoker\n",
       "No     151\n",
       "Yes     93\n",
       "Name: count, dtype: int64"
      ]
     },
     "execution_count": 11,
     "metadata": {},
     "output_type": "execute_result"
    }
   ],
   "source": [
    "df[\"smoker\"].value_counts()\n",
    "# 151 non-smokers"
   ]
  },
  {
   "cell_type": "markdown",
   "metadata": {
    "id": "TX7HPM790yz3"
   },
   "source": [
    "## Question 8: What is the average total bill for dinners?\n"
   ]
  },
  {
   "cell_type": "code",
   "execution_count": 12,
   "metadata": {},
   "outputs": [
    {
     "data": {
      "text/plain": [
       "20.79715909090909"
      ]
     },
     "execution_count": 12,
     "metadata": {},
     "output_type": "execute_result"
    }
   ],
   "source": [
    "filter4 = df[\"time\"] == \"Dinner\"\n",
    "df[\"total_bill\"].where(filter4, inplace=False).mean()"
   ]
  },
  {
   "cell_type": "markdown",
   "metadata": {
    "id": "PUKHp45z04H8"
   },
   "source": [
    "## Question 9: What is the smallest size of a group recorded?\n"
   ]
  },
  {
   "cell_type": "code",
   "execution_count": 13,
   "metadata": {},
   "outputs": [
    {
     "data": {
      "text/plain": [
       "1"
      ]
     },
     "execution_count": 13,
     "metadata": {},
     "output_type": "execute_result"
    }
   ],
   "source": [
    "df[\"size\"].min()"
   ]
  },
  {
   "cell_type": "markdown",
   "metadata": {
    "id": "b5CzsW2-1H5D"
   },
   "source": [
    "## Question 10: What is the standard deviation of the total bill amounts?\n"
   ]
  },
  {
   "cell_type": "code",
   "execution_count": 14,
   "metadata": {},
   "outputs": [
    {
     "data": {
      "text/plain": [
       "count    244.000000\n",
       "mean      19.785943\n",
       "std        8.902412\n",
       "min        3.070000\n",
       "25%       13.347500\n",
       "50%       17.795000\n",
       "75%       24.127500\n",
       "max       50.810000\n",
       "Name: total_bill, dtype: float64"
      ]
     },
     "execution_count": 14,
     "metadata": {},
     "output_type": "execute_result"
    }
   ],
   "source": [
    "df[\"total_bill\"].describe()\n",
    "# 8.902412"
   ]
  },
  {
   "cell_type": "markdown",
   "metadata": {
    "id": "YSNjWBeD1lc-"
   },
   "source": [
    "## Question 11: How many male smokers are there compared to female smokers?\n"
   ]
  },
  {
   "cell_type": "code",
   "execution_count": 58,
   "metadata": {},
   "outputs": [
    {
     "name": "stdout",
     "output_type": "stream",
     "text": [
      "60\n",
      "33\n"
     ]
    }
   ],
   "source": [
    "filter14 = df[\"smoker\"] == \"Yes\"\n",
    "filter15 = df[\"sex\"] == \"Male\"\n",
    "filter16 = df[\"sex\"] == \"Female\"\n",
    "\n",
    "print(df[\"sex\"].where(filter14 & filter15, inplace=False).count())\n",
    "# male smokers = 60\n",
    "print(df[\"sex\"].where(filter14 & filter16, inplace=False).count())\n",
    "# female smokers = 33"
   ]
  },
  {
   "cell_type": "markdown",
   "metadata": {
    "id": "dpN7kz5_2gra"
   },
   "source": [
    "## Question 12: How much more do male customers tip on average than female customers?"
   ]
  },
  {
   "cell_type": "code",
   "execution_count": null,
   "metadata": {},
   "outputs": [],
   "source": []
  },
  {
   "cell_type": "markdown",
   "metadata": {
    "id": "b7mTBmr_2ruR"
   },
   "source": [
    "## Question 13: What is the median tip amount given by customers on Thursdays?"
   ]
  },
  {
   "cell_type": "code",
   "execution_count": 15,
   "metadata": {},
   "outputs": [
    {
     "data": {
      "text/plain": [
       "2.3049999999999997"
      ]
     },
     "execution_count": 15,
     "metadata": {},
     "output_type": "execute_result"
    }
   ],
   "source": [
    "filter5 = df[\"day\"] == \"Thur\" \n",
    "df[\"tip\"].where(filter5, inplace=False).median()"
   ]
  },
  {
   "cell_type": "markdown",
   "metadata": {
    "id": "QHElT5hT20Oy"
   },
   "source": [
    "## Question 14: What is the total tip amount given by customers on Friday?\n"
   ]
  },
  {
   "cell_type": "code",
   "execution_count": 16,
   "metadata": {},
   "outputs": [
    {
     "data": {
      "text/plain": [
       "51.96"
      ]
     },
     "execution_count": 16,
     "metadata": {},
     "output_type": "execute_result"
    }
   ],
   "source": [
    "filter6 = df[\"day\"] == \"Fri\"\n",
    "df[\"tip\"].where(filter6, inplace=False).sum()"
   ]
  },
  {
   "cell_type": "markdown",
   "metadata": {
    "id": "TrGCWY4M3BXA"
   },
   "source": [
    "## Question 15: What is the average tip amount for non-smokers during dinner time?"
   ]
  },
  {
   "cell_type": "code",
   "execution_count": 20,
   "metadata": {},
   "outputs": [
    {
     "data": {
      "text/plain": [
       "3.1268867924528303"
      ]
     },
     "execution_count": 20,
     "metadata": {},
     "output_type": "execute_result"
    }
   ],
   "source": [
    "filter7 = df[\"time\"] == \"Dinner\" \n",
    "filter8 = df[\"smoker\"] == \"No\"\n",
    "df[\"tip\"].where(filter7 & filter8, inplace=False).mean()"
   ]
  },
  {
   "cell_type": "markdown",
   "metadata": {
    "id": "GX4IpGLw3apS"
   },
   "source": [
    "## Question 16: How much does the total bill vary between smokers and non-smokers?"
   ]
  },
  {
   "cell_type": "code",
   "execution_count": 53,
   "metadata": {},
   "outputs": [
    {
     "name": "stdout",
     "output_type": "stream",
     "text": [
      "967.0899999999992\n"
     ]
    }
   ],
   "source": [
    "filter12 = df.loc[(df[\"smoker\"] == \"Yes\"), 'total_bill']\n",
    "filter12.sum()\n",
    "# 1930.3400000000001\n",
    "\n",
    "filter13 = df.loc[(df[\"smoker\"] == \"No\"), 'total_bill']\n",
    "filter13.sum()\n",
    "# 2897.4299999999994\n",
    "\n",
    "print(filter13.sum() - filter12.sum())"
   ]
  },
  {
   "cell_type": "markdown",
   "metadata": {
    "id": "sk1RdKdA3gjW"
   },
   "source": [
    "## Question 17: What is the most common day for customers to visit the restaurant?"
   ]
  },
  {
   "cell_type": "code",
   "execution_count": 37,
   "metadata": {},
   "outputs": [
    {
     "data": {
      "text/plain": [
       "day\n",
       "Sat     87\n",
       "Sun     76\n",
       "Thur    62\n",
       "Fri     19\n",
       "Name: count, dtype: int64"
      ]
     },
     "execution_count": 37,
     "metadata": {},
     "output_type": "execute_result"
    }
   ],
   "source": [
    "df[\"day\"].value_counts()\n",
    "# Saturday "
   ]
  },
  {
   "cell_type": "markdown",
   "metadata": {
    "id": "JZPzrSv13s5l"
   },
   "source": [
    "## Question 18: What is the range of tip amounts for female customers?\n"
   ]
  },
  {
   "cell_type": "code",
   "execution_count": 46,
   "metadata": {},
   "outputs": [
    {
     "name": "stdout",
     "output_type": "stream",
     "text": [
      "(1.0, 6.5)\n"
     ]
    }
   ],
   "source": [
    "filter11 = df.loc[(df[\"sex\"] == \"Female\"), 'tip']\n",
    "print(f\"({filter11.min()}, {filter11.max()})\")"
   ]
  },
  {
   "cell_type": "markdown",
   "metadata": {
    "id": "9Ph119P83yt9"
   },
   "source": [
    "## Question 19: Calculate the total bill for parties of 5 or more people (size).\n"
   ]
  },
  {
   "cell_type": "code",
   "execution_count": 29,
   "metadata": {},
   "outputs": [
    {
     "name": "stdout",
     "output_type": "stream",
     "text": [
      "9\n"
     ]
    },
    {
     "data": {
      "text/plain": [
       "289.65999999999997"
      ]
     },
     "execution_count": 29,
     "metadata": {},
     "output_type": "execute_result"
    }
   ],
   "source": [
    "filter9 = df[\"size\"] >= 5\n",
    "# They're 9 parties\n",
    "print(df[\"total_bill\"].where(filter9, inplace=False).count())\n",
    "# Their total bills sum = 289.65999999999997\n",
    "df[\"total_bill\"].where(filter9, inplace=False).sum()"
   ]
  },
  {
   "cell_type": "markdown",
   "metadata": {
    "id": "yzo5Sqdk39Aw"
   },
   "source": [
    "## Question 20: What is the highest total bill recorded during lunch?\n"
   ]
  },
  {
   "cell_type": "code",
   "execution_count": 30,
   "metadata": {},
   "outputs": [
    {
     "data": {
      "text/plain": [
       "43.11"
      ]
     },
     "execution_count": 30,
     "metadata": {},
     "output_type": "execute_result"
    }
   ],
   "source": [
    "filter10 = df[\"time\"] == \"Lunch\"\n",
    "df[\"total_bill\"].where(filter10, inplace=False).max()"
   ]
  },
  {
   "cell_type": "markdown",
   "metadata": {
    "id": "4MeSEXbB4HG8"
   },
   "source": [
    "## Question 21: How many customers visited the restaurant on weekends (Saturday and Sunday) and ordered a total bill of more than $20?"
   ]
  },
  {
   "cell_type": "markdown",
   "metadata": {
    "id": "WIgnNtRO4K6L"
   },
   "source": [
    "\n",
    "\n",
    "```\n",
    "# Hint isin ()\n",
    "\n",
    "```\n",
    "\n"
   ]
  },
  {
   "cell_type": "code",
   "execution_count": null,
   "metadata": {},
   "outputs": [],
   "source": []
  }
 ],
 "metadata": {
  "colab": {
   "private_outputs": true,
   "provenance": []
  },
  "kernelspec": {
   "display_name": "Python 3 (ipykernel)",
   "language": "python",
   "name": "python3"
  },
  "language_info": {
   "codemirror_mode": {
    "name": "ipython",
    "version": 3
   },
   "file_extension": ".py",
   "mimetype": "text/x-python",
   "name": "python",
   "nbconvert_exporter": "python",
   "pygments_lexer": "ipython3",
   "version": "3.12.4"
  }
 },
 "nbformat": 4,
 "nbformat_minor": 4
}
